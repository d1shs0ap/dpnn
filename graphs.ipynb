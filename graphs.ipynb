{
 "cells": [
  {
   "cell_type": "markdown",
   "id": "spanish-purse",
   "metadata": {},
   "source": [
    "### Import libraries"
   ]
  },
  {
   "cell_type": "code",
   "execution_count": 1,
   "id": "constant-bouquet",
   "metadata": {},
   "outputs": [],
   "source": [
    "import pandas as pd\n",
    "import seaborn as sns\n",
    "import inspect"
   ]
  },
  {
   "cell_type": "markdown",
   "id": "accessory-pressure",
   "metadata": {},
   "source": [
    "### Load data"
   ]
  },
  {
   "cell_type": "code",
   "execution_count": 2,
   "id": "czech-chapel",
   "metadata": {},
   "outputs": [],
   "source": [
    "output_dir = 'graphs/constant/'\n",
    "raw_df = pd.read_csv(f'{output_dir}raw.csv')"
   ]
  },
  {
   "cell_type": "markdown",
   "id": "colonial-jason",
   "metadata": {},
   "source": [
    "### Process results"
   ]
  },
  {
   "cell_type": "code",
   "execution_count": 6,
   "id": "elementary-circuit",
   "metadata": {},
   "outputs": [],
   "source": [
    "plot_df = pd.DataFrame()\n",
    "\n",
    "for nn_method in ['dptt', 'ldp']:\n",
    "    \n",
    "    nn_method_df = pd.DataFrame()\n",
    "    \n",
    "    # experiment specification\n",
    "    nn_method_df['early_stopping_level'] = raw_df['early_stopping_level'] - 1\n",
    "    nn_method_df['eps'] = raw_df['eps']\n",
    "    nn_method_df['nn_method'] = nn_method\n",
    "    \n",
    "    # metrics\n",
    "    nn_method_df['raw_acc'] = raw_df[f'raw_acc_{nn_method}']\n",
    "    nn_method_df['top_5_acc'] = raw_df[f'top_5_acc_{nn_method}']\n",
    "    nn_method_df['precision'] = raw_df[f'precision_{nn_method}']\n",
    "    nn_method_df['recall'] = raw_df[f'recall_{nn_method}']\n",
    "\n",
    "    plot_df = pd.concat([plot_df, nn_method_df], ignore_index=True)"
   ]
  },
  {
   "cell_type": "markdown",
   "id": "alleged-letter",
   "metadata": {},
   "source": [
    "### Graph"
   ]
  },
  {
   "cell_type": "code",
   "execution_count": 9,
   "id": "legislative-excellence",
   "metadata": {},
   "outputs": [
    {
     "data": {
      "text/plain": [
       "<Figure size 640x480 with 0 Axes>"
      ]
     },
     "metadata": {},
     "output_type": "display_data"
    }
   ],
   "source": [
    "for metric in ['raw_acc', 'top_5_acc', 'precision', 'recall']: # precision and recall considers top K values relevant\n",
    "\n",
    "    # plot for both DP-TT and LDP\n",
    "    plot = sns.lineplot(\n",
    "        data=plot_df, x='eps', y=f'{metric}', \n",
    "        hue='early_stopping_level', style='nn_method', markers=True, dashes=['', (1, 1)],\n",
    "        palette='deep', alpha=0.75,\n",
    "    )\n",
    "\n",
    "    # graph params\n",
    "    plot.set(\n",
    "        ylim=(-0.1, 1.1),\n",
    "        title=f'{metric} vs. total epsilon'\n",
    "    )\n",
    "\n",
    "    # move legend\n",
    "    sns.move_legend(plot, \"upper left\", bbox_to_anchor=(1, 1))\n",
    "\n",
    "    # save plot\n",
    "    plot.get_figure().savefig(f'{output_dir}{metric}.png', bbox_inches='tight', dpi=400)\n",
    "    plot.get_figure().clf()"
   ]
  }
 ],
 "metadata": {
  "kernelspec": {
   "display_name": "dpnn",
   "language": "python",
   "name": "dpnn"
  },
  "language_info": {
   "codemirror_mode": {
    "name": "ipython",
    "version": 3
   },
   "file_extension": ".py",
   "mimetype": "text/x-python",
   "name": "python",
   "nbconvert_exporter": "python",
   "pygments_lexer": "ipython3",
   "version": "3.10.11"
  }
 },
 "nbformat": 4,
 "nbformat_minor": 5
}
